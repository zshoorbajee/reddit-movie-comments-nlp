{
 "cells": [
  {
   "cell_type": "markdown",
   "metadata": {},
   "source": [
    "## Data Collection\n",
    "\n",
    "The dataset used in this notebook was compiled over the several Jupyter Notebooks in this directory. You can browse the notebooks for the detailed process. Here is a summary of the work done to collect the [data](../data/).\n",
    "\n",
    "### 1. Get movie discussions\n",
    "Notebook: [1_getting_movie_discussions.ipynb](1_getting_movie_discussions.ipynb)\n",
    "\n",
    "Use the PRAW library, a wrapper for the Reddit API.\n",
    "* Collect the URLs and titles for all available official movie discussions on Reddit's r/movies. This should be 1,000 rows. \n",
    "    * Filter out discussions not related to movies, such as discussions of award ceremonies and end-of-year threads.\n",
    "    * Use RegEx to clean up movie titles. Strip words from the post's title like\n",
    "        * \"official discussion\"\n",
    "        * \"spoilers\"\n",
    "        * \"international release\"\n",
    "    *  Save resulting dataframe as `movies_cleaned.csv`.\n",
    "\n",
    "### 2. Get comments from movies\n",
    "Notebook: [2_getting_comments_json.ipynb](2_getting_comments_json.ipynb)\n",
    "\n",
    "Using PRAW and the URLS collected in the last notebook:\n",
    "* Get the top 100 comments from each discussion thread (some will have fewer than 100) as well as the date the thread was posted.\n",
    "    * The date will be useful when trying to match the Reddit post with the movie's IMDb score.\n",
    "    * Save comments and dates in a dictionary format with the discussion's Reddit ID as the key.\n",
    "    * This dictionary should be read as a dataframe and transposed.\n",
    "* Save the resulting dictionary as a JSON file `movies_comments.json`.\n",
    "\n",
    "### 3. Clean comments\n",
    "Notebook: [3_cleaning_comments.ipynb](3_cleaning_comments.ipynb)\n",
    "\n",
    "Using the previously saved JSON file:\n",
    "* Read it in as a dataframe.\n",
    "* Combine the comments from movies that were discussed on Reddit twice. Some movies had an discussions for international releases and US releases. Choose one post and ID to act as the ID for this movie.\n",
    "    * This requires some granular work, since some movies simply have the same title, etc.\n",
    "* Save this dataframe as a CSV, excluding the comments, as `reddit_movies_final.csv`.\n",
    "* Explode comments. Resulting dataframe should have tens of thousands of rows.\n",
    "* Drop duplicate comments.\n",
    "    * More granular work here. Not all duplicates should be dropped. Only ones that appear to be spam or administrative.\n",
    "* Remove administrative comments from each discussion. They only show up in a few discussions, but they are usually the first comment and contain keywords like \"r/movies\", \"pinned\", or \"FYI\".\n",
    "* Save the resulting dataframe as `comments_exploded.csv`.\n",
    "\n",
    "### 4. Merge movies with IMDb score\n",
    "\n",
    "Notebook: [4_merge_reddit_imdb.ipynb](4_merge_reddit_imdb.ipynb)\n",
    "* Download IMDb datasets \"title.basics.tsv.gz\" and \"title.ratings.tsv.gz\" from https://www.imdb.com/interfaces/\n",
    "* Read in the datasets as dataframes. Drop non-movies and merge them on the unique identifier.\n",
    "* Merge this IMDb dataset with the Reddit movies dataset. Use movie title and release date as the features to merge on.\n",
    "    * Filter out duplicates. A surprising number of blockbuster movies share a release year and title with other, lesser known movies.\n",
    "        * This requires granular work and care. Some Reddit movies might match with the wrong IMDb movie. Some Reddit movies were discussed in the year after the movie was released.\n",
    "    * Some movies in the Reddit dataframe need their titles changed to match the IMDb counterpart (misspelled).\n",
    "* Merge the resulting dataset with the comments dataset.\n",
    "* Save resulting data as `data_final.csv`."
   ]
  }
 ],
 "metadata": {
  "kernelspec": {
   "display_name": "Python 3.8.5 ('capstone-env')",
   "language": "python",
   "name": "python3"
  },
  "language_info": {
   "codemirror_mode": {
    "name": "ipython",
    "version": 3
   },
   "file_extension": ".py",
   "mimetype": "text/x-python",
   "name": "python",
   "nbconvert_exporter": "python",
   "pygments_lexer": "ipython3",
   "version": "3.8.5"
  },
  "orig_nbformat": 4,
  "vscode": {
   "interpreter": {
    "hash": "741bbb06d8fece82f103e7a4762f2cad41a4667d502102b48dc88a29a56aa95e"
   }
  }
 },
 "nbformat": 4,
 "nbformat_minor": 2
}
