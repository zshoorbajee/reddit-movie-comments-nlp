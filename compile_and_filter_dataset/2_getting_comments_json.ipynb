{
 "cells": [
  {
   "cell_type": "code",
   "execution_count": 1,
   "metadata": {},
   "outputs": [],
   "source": [
    "import numpy as np\n",
    "import pandas as pd\n",
    "from collections import OrderedDict\n",
    "\n",
    "import praw\n",
    "\n",
    "import json\n",
    "\n",
    "from datetime import datetime\n",
    "\n",
    "pd.options.display.max_colwidth = 75"
   ]
  },
  {
   "cell_type": "code",
   "execution_count": 2,
   "metadata": {},
   "outputs": [],
   "source": [
    "df = pd.read_csv('../data/movies_cleaned.csv', index_col='id')"
   ]
  },
  {
   "cell_type": "code",
   "execution_count": 3,
   "metadata": {},
   "outputs": [],
   "source": [
    "with open('../.secret/ZSDSFI_client_id.txt') as f:\n",
    "    client_id = f.read()\n",
    "\n",
    "with open('../.secret/ZSDSFI_client_secret.txt') as f:\n",
    "    client_secret = f.read()"
   ]
  },
  {
   "cell_type": "code",
   "execution_count": 4,
   "metadata": {},
   "outputs": [],
   "source": [
    "reddit = praw.Reddit(\n",
    "    client_id=client_id,\n",
    "    client_secret=client_secret,\n",
    "    user_agent=\"Movie Scraper by ZSDSFI\"\n",
    ")"
   ]
  },
  {
   "cell_type": "code",
   "execution_count": 5,
   "metadata": {},
   "outputs": [
    {
     "data": {
      "text/html": [
       "<div>\n",
       "<style scoped>\n",
       "    .dataframe tbody tr th:only-of-type {\n",
       "        vertical-align: middle;\n",
       "    }\n",
       "\n",
       "    .dataframe tbody tr th {\n",
       "        vertical-align: top;\n",
       "    }\n",
       "\n",
       "    .dataframe thead th {\n",
       "        text-align: right;\n",
       "    }\n",
       "</style>\n",
       "<table border=\"1\" class=\"dataframe\">\n",
       "  <thead>\n",
       "    <tr style=\"text-align: right;\">\n",
       "      <th></th>\n",
       "      <th>title</th>\n",
       "      <th>post_title</th>\n",
       "      <th>url</th>\n",
       "    </tr>\n",
       "    <tr>\n",
       "      <th>id</th>\n",
       "      <th></th>\n",
       "      <th></th>\n",
       "      <th></th>\n",
       "    </tr>\n",
       "  </thead>\n",
       "  <tbody>\n",
       "    <tr>\n",
       "      <th>vzcwal</th>\n",
       "      <td>the princess</td>\n",
       "      <td>official discussion - the princess [spoilers]</td>\n",
       "      <td>https://www.reddit.com/r/movies/comments/vzcwal/official_discussion_the...</td>\n",
       "    </tr>\n",
       "    <tr>\n",
       "      <th>vzcw0a</th>\n",
       "      <td>the man from toronto</td>\n",
       "      <td>official discussion - the man from toronto [spoilers]</td>\n",
       "      <td>https://www.reddit.com/r/movies/comments/vzcw0a/official_discussion_the...</td>\n",
       "    </tr>\n",
       "    <tr>\n",
       "      <th>vzcvsd</th>\n",
       "      <td>the sea beast</td>\n",
       "      <td>official discussion - the sea beast [spoilers]</td>\n",
       "      <td>https://www.reddit.com/r/movies/comments/vzcvsd/official_discussion_the...</td>\n",
       "    </tr>\n",
       "    <tr>\n",
       "      <th>vzcvkz</th>\n",
       "      <td>mrs. harris goes to paris</td>\n",
       "      <td>official discussion - mrs. harris goes to paris [spoilers]</td>\n",
       "      <td>https://www.reddit.com/r/movies/comments/vzcvkz/official_discussion_mrs...</td>\n",
       "    </tr>\n",
       "    <tr>\n",
       "      <th>vzcv66</th>\n",
       "      <td>where the crawdads sing</td>\n",
       "      <td>official discussion - where the crawdads sing [spoilers]</td>\n",
       "      <td>https://www.reddit.com/r/movies/comments/vzcv66/official_discussion_whe...</td>\n",
       "    </tr>\n",
       "  </tbody>\n",
       "</table>\n",
       "</div>"
      ],
      "text/plain": [
       "                            title  \\\n",
       "id                                  \n",
       "vzcwal               the princess   \n",
       "vzcw0a       the man from toronto   \n",
       "vzcvsd              the sea beast   \n",
       "vzcvkz  mrs. harris goes to paris   \n",
       "vzcv66    where the crawdads sing   \n",
       "\n",
       "                                                        post_title  \\\n",
       "id                                                                   \n",
       "vzcwal               official discussion - the princess [spoilers]   \n",
       "vzcw0a       official discussion - the man from toronto [spoilers]   \n",
       "vzcvsd              official discussion - the sea beast [spoilers]   \n",
       "vzcvkz  official discussion - mrs. harris goes to paris [spoilers]   \n",
       "vzcv66    official discussion - where the crawdads sing [spoilers]   \n",
       "\n",
       "                                                                               url  \n",
       "id                                                                                  \n",
       "vzcwal  https://www.reddit.com/r/movies/comments/vzcwal/official_discussion_the...  \n",
       "vzcw0a  https://www.reddit.com/r/movies/comments/vzcw0a/official_discussion_the...  \n",
       "vzcvsd  https://www.reddit.com/r/movies/comments/vzcvsd/official_discussion_the...  \n",
       "vzcvkz  https://www.reddit.com/r/movies/comments/vzcvkz/official_discussion_mrs...  \n",
       "vzcv66  https://www.reddit.com/r/movies/comments/vzcv66/official_discussion_whe...  "
      ]
     },
     "execution_count": 5,
     "metadata": {},
     "output_type": "execute_result"
    }
   ],
   "source": [
    "df.head()"
   ]
  },
  {
   "cell_type": "code",
   "execution_count": 6,
   "metadata": {},
   "outputs": [],
   "source": [
    "all_ids = df.index.tolist()"
   ]
  },
  {
   "cell_type": "code",
   "execution_count": 7,
   "metadata": {},
   "outputs": [],
   "source": [
    "# The following cell can about one hour to run."
   ]
  },
  {
   "cell_type": "code",
   "execution_count": 8,
   "metadata": {},
   "outputs": [],
   "source": [
    "movies_comments = {}\n",
    "\n",
    "for id in all_ids:\n",
    "    submission = reddit.submission(id=id)\n",
    "    comments = []\n",
    "    # Using a try-except block because at least one movie causes an error, as the thread no longer exists \n",
    "    try:\n",
    "        submission.comment_sort = 'top'\n",
    "        post_date_utc = submission.created_utc\n",
    "        for top_level_comment in submission.comments[:100]:\n",
    "            comments.append(top_level_comment.body)\n",
    "    except:\n",
    "        continue\n",
    "    movies_comments[id] = {\n",
    "        'title': df.loc[id]['title'],\n",
    "        'comments': comments,\n",
    "        'post_date_utc': post_date_utc\n",
    "    }"
   ]
  },
  {
   "cell_type": "code",
   "execution_count": 9,
   "metadata": {},
   "outputs": [
    {
     "name": "stdout",
     "output_type": "stream",
     "text": [
      "<class 'pandas.core.frame.DataFrame'>\n",
      "Index: 944 entries, vzcwal to 47szbr\n",
      "Data columns (total 3 columns):\n",
      " #   Column         Non-Null Count  Dtype \n",
      "---  ------         --------------  ----- \n",
      " 0   title          944 non-null    object\n",
      " 1   comments       944 non-null    object\n",
      " 2   post_date_utc  944 non-null    object\n",
      "dtypes: object(3)\n",
      "memory usage: 29.5+ KB\n"
     ]
    }
   ],
   "source": [
    "pd.DataFrame(movies_comments).T.info()"
   ]
  },
  {
   "cell_type": "code",
   "execution_count": 10,
   "metadata": {},
   "outputs": [
    {
     "data": {
      "text/html": [
       "<div>\n",
       "<style scoped>\n",
       "    .dataframe tbody tr th:only-of-type {\n",
       "        vertical-align: middle;\n",
       "    }\n",
       "\n",
       "    .dataframe tbody tr th {\n",
       "        vertical-align: top;\n",
       "    }\n",
       "\n",
       "    .dataframe thead th {\n",
       "        text-align: right;\n",
       "    }\n",
       "</style>\n",
       "<table border=\"1\" class=\"dataframe\">\n",
       "  <thead>\n",
       "    <tr style=\"text-align: right;\">\n",
       "      <th></th>\n",
       "      <th>title</th>\n",
       "      <th>comments</th>\n",
       "      <th>post_date_utc</th>\n",
       "    </tr>\n",
       "  </thead>\n",
       "  <tbody>\n",
       "    <tr>\n",
       "      <th>d6o3sm</th>\n",
       "      <td>downton abbey</td>\n",
       "      <td>[Congrats to John and Anna Bates for both managing to stay out of priso...</td>\n",
       "      <td>1568945046.0</td>\n",
       "    </tr>\n",
       "    <tr>\n",
       "      <th>lj1cfb</th>\n",
       "      <td>judas and the black messiah</td>\n",
       "      <td>[The ‘I AM A REVOLUTIONARY’ scene inside the church is absolutely pheno...</td>\n",
       "      <td>1613225944.0</td>\n",
       "    </tr>\n",
       "    <tr>\n",
       "      <th>dgpkzq</th>\n",
       "      <td>mister america</td>\n",
       "      <td>[Finally. They told me I was a fool. To waste my time watching fake mov...</td>\n",
       "      <td>1570849758.0</td>\n",
       "    </tr>\n",
       "    <tr>\n",
       "      <th>oqy06h</th>\n",
       "      <td>blood red sky</td>\n",
       "      <td>[It was surprisingly better than I had hoped for. A solid horror film a...</td>\n",
       "      <td>1627160050.0</td>\n",
       "    </tr>\n",
       "    <tr>\n",
       "      <th>6jxijs</th>\n",
       "      <td>baby driver</td>\n",
       "      <td>[I don't think I've ever seen so many different things timed to music b...</td>\n",
       "      <td>1498614999.0</td>\n",
       "    </tr>\n",
       "    <tr>\n",
       "      <th>p8fnnq</th>\n",
       "      <td>annette</td>\n",
       "      <td>[\"Annette\" is 100% a love it or hate it film. But you need to admit tha...</td>\n",
       "      <td>1629499166.0</td>\n",
       "    </tr>\n",
       "    <tr>\n",
       "      <th>5697im</th>\n",
       "      <td>queen of katwe</td>\n",
       "      <td>[I enjoyed it so much more than I expected too. Even though there wasn'...</td>\n",
       "      <td>1475807469.0</td>\n",
       "    </tr>\n",
       "    <tr>\n",
       "      <th>dzlep9</th>\n",
       "      <td>a beautiful day in the neighborhood</td>\n",
       "      <td>[Absolutely loved this film. Loved the use of miniatures for scene chan...</td>\n",
       "      <td>1574391631.0</td>\n",
       "    </tr>\n",
       "    <tr>\n",
       "      <th>pprhvt</th>\n",
       "      <td>dune</td>\n",
       "      <td>[Seeing Jason Momoa clean shaven shook me to my core.\\n\\nVisually, the ...</td>\n",
       "      <td>1631845730.0</td>\n",
       "    </tr>\n",
       "    <tr>\n",
       "      <th>qx6sxk</th>\n",
       "      <td>ghostbusters: afterlife</td>\n",
       "      <td>[Easily the most unrealistic part of the movie was how pristine that Wa...</td>\n",
       "      <td>1637291428.0</td>\n",
       "    </tr>\n",
       "  </tbody>\n",
       "</table>\n",
       "</div>"
      ],
      "text/plain": [
       "                                      title  \\\n",
       "d6o3sm                        downton abbey   \n",
       "lj1cfb          judas and the black messiah   \n",
       "dgpkzq                       mister america   \n",
       "oqy06h                        blood red sky   \n",
       "6jxijs                          baby driver   \n",
       "p8fnnq                              annette   \n",
       "5697im                       queen of katwe   \n",
       "dzlep9  a beautiful day in the neighborhood   \n",
       "pprhvt                                 dune   \n",
       "qx6sxk              ghostbusters: afterlife   \n",
       "\n",
       "                                                                          comments  \\\n",
       "d6o3sm  [Congrats to John and Anna Bates for both managing to stay out of priso...   \n",
       "lj1cfb  [The ‘I AM A REVOLUTIONARY’ scene inside the church is absolutely pheno...   \n",
       "dgpkzq  [Finally. They told me I was a fool. To waste my time watching fake mov...   \n",
       "oqy06h  [It was surprisingly better than I had hoped for. A solid horror film a...   \n",
       "6jxijs  [I don't think I've ever seen so many different things timed to music b...   \n",
       "p8fnnq  [\"Annette\" is 100% a love it or hate it film. But you need to admit tha...   \n",
       "5697im  [I enjoyed it so much more than I expected too. Even though there wasn'...   \n",
       "dzlep9  [Absolutely loved this film. Loved the use of miniatures for scene chan...   \n",
       "pprhvt  [Seeing Jason Momoa clean shaven shook me to my core.\\n\\nVisually, the ...   \n",
       "qx6sxk  [Easily the most unrealistic part of the movie was how pristine that Wa...   \n",
       "\n",
       "       post_date_utc  \n",
       "d6o3sm  1568945046.0  \n",
       "lj1cfb  1613225944.0  \n",
       "dgpkzq  1570849758.0  \n",
       "oqy06h  1627160050.0  \n",
       "6jxijs  1498614999.0  \n",
       "p8fnnq  1629499166.0  \n",
       "5697im  1475807469.0  \n",
       "dzlep9  1574391631.0  \n",
       "pprhvt  1631845730.0  \n",
       "qx6sxk  1637291428.0  "
      ]
     },
     "execution_count": 10,
     "metadata": {},
     "output_type": "execute_result"
    }
   ],
   "source": [
    "pd.DataFrame(movies_comments).T.sample(10)"
   ]
  },
  {
   "cell_type": "code",
   "execution_count": 11,
   "metadata": {},
   "outputs": [],
   "source": [
    "# Saving the lists of movie comments as a JSON file\n",
    "# Run this once\n",
    "\n",
    "# with open(\"../data/movies_comments.json\", \"w\") as outfile:\n",
    "#     json.dump(movies_comments, outfile)"
   ]
  }
 ],
 "metadata": {
  "kernelspec": {
   "display_name": "Python 3.8.5 ('capstone-env')",
   "language": "python",
   "name": "python3"
  },
  "language_info": {
   "codemirror_mode": {
    "name": "ipython",
    "version": 3
   },
   "file_extension": ".py",
   "mimetype": "text/x-python",
   "name": "python",
   "nbconvert_exporter": "python",
   "pygments_lexer": "ipython3",
   "version": "3.8.5"
  },
  "orig_nbformat": 4,
  "vscode": {
   "interpreter": {
    "hash": "741bbb06d8fece82f103e7a4762f2cad41a4667d502102b48dc88a29a56aa95e"
   }
  }
 },
 "nbformat": 4,
 "nbformat_minor": 2
}
