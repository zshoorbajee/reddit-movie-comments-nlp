{
 "cells": [
  {
   "cell_type": "code",
   "execution_count": 1,
   "metadata": {},
   "outputs": [],
   "source": [
    "import numpy as np\n",
    "import pandas as pd\n",
    "\n",
    "import praw\n",
    "\n",
    "import json\n",
    "\n",
    "pd.options.display.max_colwidth = 75"
   ]
  },
  {
   "cell_type": "code",
   "execution_count": 2,
   "metadata": {},
   "outputs": [],
   "source": [
    "df = pd.read_csv('../data/movies_cleaned.csv')"
   ]
  },
  {
   "cell_type": "code",
   "execution_count": 4,
   "metadata": {},
   "outputs": [],
   "source": [
    "with open('../.secret/ZSDSFI_client_id.txt') as f:\n",
    "    client_id = f.read()\n",
    "\n",
    "with open('../.secret/ZSDSFI_client_secret.txt') as f:\n",
    "    client_secret = f.read()"
   ]
  },
  {
   "cell_type": "code",
   "execution_count": 5,
   "metadata": {},
   "outputs": [],
   "source": [
    "reddit = praw.Reddit(\n",
    "    client_id=client_id,\n",
    "    client_secret=client_secret,\n",
    "    user_agent=\"Movie Scraper by ZSDSFI\"\n",
    ")"
   ]
  },
  {
   "cell_type": "code",
   "execution_count": 6,
   "metadata": {},
   "outputs": [
    {
     "data": {
      "text/html": [
       "<div>\n",
       "<style scoped>\n",
       "    .dataframe tbody tr th:only-of-type {\n",
       "        vertical-align: middle;\n",
       "    }\n",
       "\n",
       "    .dataframe tbody tr th {\n",
       "        vertical-align: top;\n",
       "    }\n",
       "\n",
       "    .dataframe thead th {\n",
       "        text-align: right;\n",
       "    }\n",
       "</style>\n",
       "<table border=\"1\" class=\"dataframe\">\n",
       "  <thead>\n",
       "    <tr style=\"text-align: right;\">\n",
       "      <th></th>\n",
       "      <th>title</th>\n",
       "      <th>post_title</th>\n",
       "      <th>id</th>\n",
       "      <th>url</th>\n",
       "    </tr>\n",
       "  </thead>\n",
       "  <tbody>\n",
       "    <tr>\n",
       "      <th>0</th>\n",
       "      <td>the princess</td>\n",
       "      <td>official discussion - the princess [spoilers]</td>\n",
       "      <td>vzcwal</td>\n",
       "      <td>https://www.reddit.com/r/movies/comments/vzcwal/official_discussion_the...</td>\n",
       "    </tr>\n",
       "    <tr>\n",
       "      <th>1</th>\n",
       "      <td>the man from toronto</td>\n",
       "      <td>official discussion - the man from toronto [spoilers]</td>\n",
       "      <td>vzcw0a</td>\n",
       "      <td>https://www.reddit.com/r/movies/comments/vzcw0a/official_discussion_the...</td>\n",
       "    </tr>\n",
       "    <tr>\n",
       "      <th>2</th>\n",
       "      <td>the sea beast</td>\n",
       "      <td>official discussion - the sea beast [spoilers]</td>\n",
       "      <td>vzcvsd</td>\n",
       "      <td>https://www.reddit.com/r/movies/comments/vzcvsd/official_discussion_the...</td>\n",
       "    </tr>\n",
       "    <tr>\n",
       "      <th>3</th>\n",
       "      <td>mrs. harris goes to paris</td>\n",
       "      <td>official discussion - mrs. harris goes to paris [spoilers]</td>\n",
       "      <td>vzcvkz</td>\n",
       "      <td>https://www.reddit.com/r/movies/comments/vzcvkz/official_discussion_mrs...</td>\n",
       "    </tr>\n",
       "    <tr>\n",
       "      <th>4</th>\n",
       "      <td>where the crawdads sing</td>\n",
       "      <td>official discussion - where the crawdads sing [spoilers]</td>\n",
       "      <td>vzcv66</td>\n",
       "      <td>https://www.reddit.com/r/movies/comments/vzcv66/official_discussion_whe...</td>\n",
       "    </tr>\n",
       "  </tbody>\n",
       "</table>\n",
       "</div>"
      ],
      "text/plain": [
       "                       title  \\\n",
       "0               the princess   \n",
       "1       the man from toronto   \n",
       "2              the sea beast   \n",
       "3  mrs. harris goes to paris   \n",
       "4    where the crawdads sing   \n",
       "\n",
       "                                                   post_title      id  \\\n",
       "0               official discussion - the princess [spoilers]  vzcwal   \n",
       "1       official discussion - the man from toronto [spoilers]  vzcw0a   \n",
       "2              official discussion - the sea beast [spoilers]  vzcvsd   \n",
       "3  official discussion - mrs. harris goes to paris [spoilers]  vzcvkz   \n",
       "4    official discussion - where the crawdads sing [spoilers]  vzcv66   \n",
       "\n",
       "                                                                          url  \n",
       "0  https://www.reddit.com/r/movies/comments/vzcwal/official_discussion_the...  \n",
       "1  https://www.reddit.com/r/movies/comments/vzcw0a/official_discussion_the...  \n",
       "2  https://www.reddit.com/r/movies/comments/vzcvsd/official_discussion_the...  \n",
       "3  https://www.reddit.com/r/movies/comments/vzcvkz/official_discussion_mrs...  \n",
       "4  https://www.reddit.com/r/movies/comments/vzcv66/official_discussion_whe...  "
      ]
     },
     "execution_count": 6,
     "metadata": {},
     "output_type": "execute_result"
    }
   ],
   "source": [
    "df.head()"
   ]
  },
  {
   "cell_type": "code",
   "execution_count": 8,
   "metadata": {},
   "outputs": [],
   "source": [
    "all_ids = df['id'].tolist()"
   ]
  },
  {
   "cell_type": "code",
   "execution_count": null,
   "metadata": {},
   "outputs": [],
   "source": [
    "# The following cell can over 13 hours to run."
   ]
  },
  {
   "cell_type": "code",
   "execution_count": 9,
   "metadata": {},
   "outputs": [],
   "source": [
    "movies_comments = {}\n",
    "\n",
    "for id in all_ids:\n",
    "    submission = reddit.submission(id=id)\n",
    "    comments = []\n",
    "    # Using a try-except block because at least one movie causes an error, as the thread no longer exists \n",
    "    try:\n",
    "        submission.comment_sort = 'top'\n",
    "        for top_level_comment in submission.comments[:100]:\n",
    "            comments.append(top_level_comment.body)\n",
    "    except:\n",
    "        continue\n",
    "    movies_comments[id] = comments"
   ]
  },
  {
   "cell_type": "code",
   "execution_count": 10,
   "metadata": {},
   "outputs": [
    {
     "data": {
      "text/plain": [
       "944"
      ]
     },
     "execution_count": 10,
     "metadata": {},
     "output_type": "execute_result"
    }
   ],
   "source": [
    "len(movies_comments)"
   ]
  },
  {
   "cell_type": "code",
   "execution_count": 20,
   "metadata": {},
   "outputs": [],
   "source": [
    "# Saving the lists of movie comments as a JSON file\n",
    "\n",
    "with open(\"../data/movies_comments.json\", \"w\") as outfile:\n",
    "    json.dump(movies_comments, outfile)"
   ]
  }
 ],
 "metadata": {
  "kernelspec": {
   "display_name": "Python 3.8.5 ('capstone-env')",
   "language": "python",
   "name": "python3"
  },
  "language_info": {
   "codemirror_mode": {
    "name": "ipython",
    "version": 3
   },
   "file_extension": ".py",
   "mimetype": "text/x-python",
   "name": "python",
   "nbconvert_exporter": "python",
   "pygments_lexer": "ipython3",
   "version": "3.8.5"
  },
  "orig_nbformat": 4,
  "vscode": {
   "interpreter": {
    "hash": "741bbb06d8fece82f103e7a4762f2cad41a4667d502102b48dc88a29a56aa95e"
   }
  }
 },
 "nbformat": 4,
 "nbformat_minor": 2
}
