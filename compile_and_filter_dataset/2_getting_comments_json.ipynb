{
 "cells": [
  {
   "cell_type": "code",
   "execution_count": 1,
   "metadata": {},
   "outputs": [],
   "source": [
    "import numpy as np\n",
    "import pandas as pd\n",
    "from collections import OrderedDict\n",
    "\n",
    "import praw\n",
    "\n",
    "import json\n",
    "\n",
    "from datetime import datetime\n",
    "\n",
    "pd.options.display.max_colwidth = 75"
   ]
  },
  {
   "cell_type": "code",
   "execution_count": 2,
   "metadata": {},
   "outputs": [],
   "source": [
    "df = pd.read_csv('../data/movies_cleaned.csv', index_col='id')"
   ]
  },
  {
   "cell_type": "code",
   "execution_count": 3,
   "metadata": {},
   "outputs": [],
   "source": [
    "with open('../.secret/ZSDSFI_client_id.txt') as f:\n",
    "    client_id = f.read()\n",
    "\n",
    "with open('../.secret/ZSDSFI_client_secret.txt') as f:\n",
    "    client_secret = f.read()"
   ]
  },
  {
   "cell_type": "code",
   "execution_count": 4,
   "metadata": {},
   "outputs": [],
   "source": [
    "reddit = praw.Reddit(\n",
    "    client_id=client_id,\n",
    "    client_secret=client_secret,\n",
    "    user_agent=\"Movie Scraper by ZSDSFI\"\n",
    ")"
   ]
  },
  {
   "cell_type": "code",
   "execution_count": 5,
   "metadata": {},
   "outputs": [
    {
     "data": {
      "text/html": [
       "<div>\n",
       "<style scoped>\n",
       "    .dataframe tbody tr th:only-of-type {\n",
       "        vertical-align: middle;\n",
       "    }\n",
       "\n",
       "    .dataframe tbody tr th {\n",
       "        vertical-align: top;\n",
       "    }\n",
       "\n",
       "    .dataframe thead th {\n",
       "        text-align: right;\n",
       "    }\n",
       "</style>\n",
       "<table border=\"1\" class=\"dataframe\">\n",
       "  <thead>\n",
       "    <tr style=\"text-align: right;\">\n",
       "      <th></th>\n",
       "      <th>title</th>\n",
       "      <th>post_title</th>\n",
       "      <th>url</th>\n",
       "    </tr>\n",
       "    <tr>\n",
       "      <th>id</th>\n",
       "      <th></th>\n",
       "      <th></th>\n",
       "      <th></th>\n",
       "    </tr>\n",
       "  </thead>\n",
       "  <tbody>\n",
       "    <tr>\n",
       "      <th>vzcwal</th>\n",
       "      <td>the princess</td>\n",
       "      <td>official discussion - the princess [spoilers]</td>\n",
       "      <td>https://www.reddit.com/r/movies/comments/vzcwal/official_discussion_the...</td>\n",
       "    </tr>\n",
       "    <tr>\n",
       "      <th>vzcw0a</th>\n",
       "      <td>the man from toronto</td>\n",
       "      <td>official discussion - the man from toronto [spoilers]</td>\n",
       "      <td>https://www.reddit.com/r/movies/comments/vzcw0a/official_discussion_the...</td>\n",
       "    </tr>\n",
       "    <tr>\n",
       "      <th>vzcvsd</th>\n",
       "      <td>the sea beast</td>\n",
       "      <td>official discussion - the sea beast [spoilers]</td>\n",
       "      <td>https://www.reddit.com/r/movies/comments/vzcvsd/official_discussion_the...</td>\n",
       "    </tr>\n",
       "    <tr>\n",
       "      <th>vzcvkz</th>\n",
       "      <td>mrs. harris goes to paris</td>\n",
       "      <td>official discussion - mrs. harris goes to paris [spoilers]</td>\n",
       "      <td>https://www.reddit.com/r/movies/comments/vzcvkz/official_discussion_mrs...</td>\n",
       "    </tr>\n",
       "    <tr>\n",
       "      <th>vzcv66</th>\n",
       "      <td>where the crawdads sing</td>\n",
       "      <td>official discussion - where the crawdads sing [spoilers]</td>\n",
       "      <td>https://www.reddit.com/r/movies/comments/vzcv66/official_discussion_whe...</td>\n",
       "    </tr>\n",
       "  </tbody>\n",
       "</table>\n",
       "</div>"
      ],
      "text/plain": [
       "                            title  \\\n",
       "id                                  \n",
       "vzcwal               the princess   \n",
       "vzcw0a       the man from toronto   \n",
       "vzcvsd              the sea beast   \n",
       "vzcvkz  mrs. harris goes to paris   \n",
       "vzcv66    where the crawdads sing   \n",
       "\n",
       "                                                        post_title  \\\n",
       "id                                                                   \n",
       "vzcwal               official discussion - the princess [spoilers]   \n",
       "vzcw0a       official discussion - the man from toronto [spoilers]   \n",
       "vzcvsd              official discussion - the sea beast [spoilers]   \n",
       "vzcvkz  official discussion - mrs. harris goes to paris [spoilers]   \n",
       "vzcv66    official discussion - where the crawdads sing [spoilers]   \n",
       "\n",
       "                                                                               url  \n",
       "id                                                                                  \n",
       "vzcwal  https://www.reddit.com/r/movies/comments/vzcwal/official_discussion_the...  \n",
       "vzcw0a  https://www.reddit.com/r/movies/comments/vzcw0a/official_discussion_the...  \n",
       "vzcvsd  https://www.reddit.com/r/movies/comments/vzcvsd/official_discussion_the...  \n",
       "vzcvkz  https://www.reddit.com/r/movies/comments/vzcvkz/official_discussion_mrs...  \n",
       "vzcv66  https://www.reddit.com/r/movies/comments/vzcv66/official_discussion_whe...  "
      ]
     },
     "execution_count": 5,
     "metadata": {},
     "output_type": "execute_result"
    }
   ],
   "source": [
    "df.head()"
   ]
  },
  {
   "cell_type": "code",
   "execution_count": 6,
   "metadata": {},
   "outputs": [],
   "source": [
    "all_ids = df.index.tolist()"
   ]
  },
  {
   "cell_type": "code",
   "execution_count": 7,
   "metadata": {},
   "outputs": [],
   "source": [
    "# The following cell can over one hour to run."
   ]
  },
  {
   "cell_type": "code",
   "execution_count": 8,
   "metadata": {},
   "outputs": [],
   "source": [
    "movies_comments = {}\n",
    "\n",
    "for id in all_ids:\n",
    "    submission = reddit.submission(id=id)\n",
    "    comments = []\n",
    "    # Using a try-except block because at least one movie causes an error, as the thread no longer exists \n",
    "    try:\n",
    "        submission.comment_sort = 'top'\n",
    "        post_date_utc = submission.created_utc\n",
    "        for top_level_comment in submission.comments[:100]:\n",
    "            comments.append(top_level_comment.body)\n",
    "    except:\n",
    "        continue\n",
    "    movies_comments[id] = {\n",
    "        'title': df.loc[id]['title'],\n",
    "        'comments': comments,\n",
    "        'post_date_utc': post_date_utc\n",
    "    }"
   ]
  },
  {
   "cell_type": "code",
   "execution_count": 27,
   "metadata": {},
   "outputs": [
    {
     "name": "stdout",
     "output_type": "stream",
     "text": [
      "<class 'pandas.core.frame.DataFrame'>\n",
      "Index: 944 entries, vzcwal to 47szbr\n",
      "Data columns (total 3 columns):\n",
      " #   Column         Non-Null Count  Dtype \n",
      "---  ------         --------------  ----- \n",
      " 0   title          944 non-null    object\n",
      " 1   comments       944 non-null    object\n",
      " 2   post_date_utc  944 non-null    object\n",
      "dtypes: object(3)\n",
      "memory usage: 29.5+ KB\n"
     ]
    }
   ],
   "source": [
    "pd.DataFrame(movies_comments_dict).T.info()"
   ]
  },
  {
   "cell_type": "code",
   "execution_count": 28,
   "metadata": {},
   "outputs": [
    {
     "data": {
      "text/html": [
       "<div>\n",
       "<style scoped>\n",
       "    .dataframe tbody tr th:only-of-type {\n",
       "        vertical-align: middle;\n",
       "    }\n",
       "\n",
       "    .dataframe tbody tr th {\n",
       "        vertical-align: top;\n",
       "    }\n",
       "\n",
       "    .dataframe thead th {\n",
       "        text-align: right;\n",
       "    }\n",
       "</style>\n",
       "<table border=\"1\" class=\"dataframe\">\n",
       "  <thead>\n",
       "    <tr style=\"text-align: right;\">\n",
       "      <th></th>\n",
       "      <th>title</th>\n",
       "      <th>comments</th>\n",
       "      <th>post_date_utc</th>\n",
       "    </tr>\n",
       "  </thead>\n",
       "  <tbody>\n",
       "    <tr>\n",
       "      <th>riy7d4</th>\n",
       "      <td>red rocket</td>\n",
       "      <td>[This was such a beautiful and human movie, and I expected nothing less...</td>\n",
       "      <td>1639797824.0</td>\n",
       "    </tr>\n",
       "    <tr>\n",
       "      <th>k4c57u</th>\n",
       "      <td>superintelligence</td>\n",
       "      <td>[honestly this movie would be a solid 6-7/10 for me if they had gotten ...</td>\n",
       "      <td>1606791751.0</td>\n",
       "    </tr>\n",
       "    <tr>\n",
       "      <th>9x2e23</th>\n",
       "      <td>fantastic beasts: the crimes of grindelwald</td>\n",
       "      <td>[Did Grindelwald just vape World War 2?, Queenies motivations made zero...</td>\n",
       "      <td>1542330028.0</td>\n",
       "    </tr>\n",
       "    <tr>\n",
       "      <th>ej1r13</th>\n",
       "      <td>the grudge (2020)</td>\n",
       "      <td>[Well folks, looks like we got our first **FUCK YOU, IT'S JANUARY!** re...</td>\n",
       "      <td>1578020426.0</td>\n",
       "    </tr>\n",
       "    <tr>\n",
       "      <th>nsj1ko</th>\n",
       "      <td>sailor moon eternal</td>\n",
       "      <td>[So ill be honest, i know almost nothing about sailor moon, but last ni...</td>\n",
       "      <td>1622851352.0</td>\n",
       "    </tr>\n",
       "    <tr>\n",
       "      <th>bzclyb</th>\n",
       "      <td>rolling thunder revue: a bob dylan story by martin scorsese</td>\n",
       "      <td>[So, I feel like there needs to be an official accounting of which part...</td>\n",
       "      <td>1560331824.0</td>\n",
       "    </tr>\n",
       "    <tr>\n",
       "      <th>a6qtnh</th>\n",
       "      <td>welcome to marwen</td>\n",
       "      <td>[Was this movie made for a five year old? The audacity they have to ass...</td>\n",
       "      <td>1545361223.0</td>\n",
       "    </tr>\n",
       "    <tr>\n",
       "      <th>sw0jcl</th>\n",
       "      <td>texas chainsaw massacre (2022)</td>\n",
       "      <td>[Sally trained for like 50 years to kill Leatherface yet came to confro...</td>\n",
       "      <td>1645242013.0</td>\n",
       "    </tr>\n",
       "    <tr>\n",
       "      <th>790a25</th>\n",
       "      <td>suburbicon</td>\n",
       "      <td>[What a disorganized, unfulfilling mess. It just felt like Great Value ...</td>\n",
       "      <td>1509069290.0</td>\n",
       "    </tr>\n",
       "    <tr>\n",
       "      <th>81bwds</th>\n",
       "      <td>red sparrow</td>\n",
       "      <td>[Sat through entire movie.\\nAs a bird watcher I didn’t not see what I e...</td>\n",
       "      <td>1519966853.0</td>\n",
       "    </tr>\n",
       "  </tbody>\n",
       "</table>\n",
       "</div>"
      ],
      "text/plain": [
       "                                                              title  \\\n",
       "riy7d4                                                   red rocket   \n",
       "k4c57u                                            superintelligence   \n",
       "9x2e23                  fantastic beasts: the crimes of grindelwald   \n",
       "ej1r13                                            the grudge (2020)   \n",
       "nsj1ko                                          sailor moon eternal   \n",
       "bzclyb  rolling thunder revue: a bob dylan story by martin scorsese   \n",
       "a6qtnh                                            welcome to marwen   \n",
       "sw0jcl                               texas chainsaw massacre (2022)   \n",
       "790a25                                                   suburbicon   \n",
       "81bwds                                                  red sparrow   \n",
       "\n",
       "                                                                          comments  \\\n",
       "riy7d4  [This was such a beautiful and human movie, and I expected nothing less...   \n",
       "k4c57u  [honestly this movie would be a solid 6-7/10 for me if they had gotten ...   \n",
       "9x2e23  [Did Grindelwald just vape World War 2?, Queenies motivations made zero...   \n",
       "ej1r13  [Well folks, looks like we got our first **FUCK YOU, IT'S JANUARY!** re...   \n",
       "nsj1ko  [So ill be honest, i know almost nothing about sailor moon, but last ni...   \n",
       "bzclyb  [So, I feel like there needs to be an official accounting of which part...   \n",
       "a6qtnh  [Was this movie made for a five year old? The audacity they have to ass...   \n",
       "sw0jcl  [Sally trained for like 50 years to kill Leatherface yet came to confro...   \n",
       "790a25  [What a disorganized, unfulfilling mess. It just felt like Great Value ...   \n",
       "81bwds  [Sat through entire movie.\\nAs a bird watcher I didn’t not see what I e...   \n",
       "\n",
       "       post_date_utc  \n",
       "riy7d4  1639797824.0  \n",
       "k4c57u  1606791751.0  \n",
       "9x2e23  1542330028.0  \n",
       "ej1r13  1578020426.0  \n",
       "nsj1ko  1622851352.0  \n",
       "bzclyb  1560331824.0  \n",
       "a6qtnh  1545361223.0  \n",
       "sw0jcl  1645242013.0  \n",
       "790a25  1509069290.0  \n",
       "81bwds  1519966853.0  "
      ]
     },
     "execution_count": 28,
     "metadata": {},
     "output_type": "execute_result"
    }
   ],
   "source": [
    "pd.DataFrame(movies_comments_dict).T.sample(10)"
   ]
  },
  {
   "cell_type": "code",
   "execution_count": 29,
   "metadata": {},
   "outputs": [],
   "source": [
    "# Saving the lists of movie comments as a JSON file\n",
    "\n",
    "with open(\"../data/movies_comments.json\", \"w\") as outfile:\n",
    "    json.dump(movies_comments, outfile)"
   ]
  }
 ],
 "metadata": {
  "kernelspec": {
   "display_name": "Python 3.8.5 ('capstone-env')",
   "language": "python",
   "name": "python3"
  },
  "language_info": {
   "codemirror_mode": {
    "name": "ipython",
    "version": 3
   },
   "file_extension": ".py",
   "mimetype": "text/x-python",
   "name": "python",
   "nbconvert_exporter": "python",
   "pygments_lexer": "ipython3",
   "version": "3.8.5"
  },
  "orig_nbformat": 4,
  "vscode": {
   "interpreter": {
    "hash": "741bbb06d8fece82f103e7a4762f2cad41a4667d502102b48dc88a29a56aa95e"
   }
  }
 },
 "nbformat": 4,
 "nbformat_minor": 2
}
