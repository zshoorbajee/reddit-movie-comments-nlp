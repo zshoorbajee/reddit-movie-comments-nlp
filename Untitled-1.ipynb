{
 "cells": [
  {
   "cell_type": "markdown",
   "metadata": {},
   "source": [
    "* join IMDb title and ratings dataframes\n",
    "* join IMDb dataframe with df\n",
    "    * Use both title and year???"
   ]
  },
  {
   "cell_type": "code",
   "execution_count": 1,
   "metadata": {},
   "outputs": [],
   "source": [
    "import numpy as np\n",
    "import pandas as pd\n",
    "import warnings\n",
    "import datetime\n",
    "\n",
    "from nltk import FreqDist\n",
    "from nltk.tokenize import RegexpTokenizer\n",
    "from nltk.corpus import stopwords\n",
    "import spacy\n",
    "from spacy import displacy\n",
    "nlp = spacy.load('en_core_web_sm')\n",
    "\n",
    "from transformers import pipelines\n",
    "\n",
    "import re\n",
    "from collections import OrderedDict, Counter\n",
    "import itertools\n",
    "import string\n",
    "\n",
    "import seaborn as sns\n",
    "import matplotlib.pyplot as plt\n",
    "%matplotlib inline\n",
    "\n",
    "import praw\n",
    "\n",
    "import json\n",
    "\n",
    "pd.options.display.max_colwidth = 100\n",
    "pd.options.display.max_rows = 100\n",
    "seed = 55\n",
    "np.random.seed(seed)"
   ]
  },
  {
   "cell_type": "code",
   "execution_count": 2,
   "metadata": {},
   "outputs": [],
   "source": [
    "df = pd.read_csv(\"data/data.csv\", index_col=0)"
   ]
  },
  {
   "cell_type": "code",
   "execution_count": 3,
   "metadata": {},
   "outputs": [
    {
     "data": {
      "image/png": "[encoded data removed]",
      "text/plain": [
       "<Figure size 300x300 with 1 Axes>"
      ]
     },
     "metadata": {},
     "output_type": "display_data"
    }
   ],
   "source": [
    "df.comments.apply(len).hist(bins=50, figsize=(3, 3));"
   ]
  },
  {
   "cell_type": "code",
   "execution_count": 4,
   "metadata": {},
   "outputs": [
    {
     "data": {
      "text/plain": [
       "count    70771.000000\n",
       "mean       392.088878\n",
       "std        602.611910\n",
       "min          1.000000\n",
       "25%         97.000000\n",
       "50%        201.000000\n",
       "75%        439.000000\n",
       "max       9979.000000\n",
       "Name: comments, dtype: float64"
      ]
     },
     "execution_count": 4,
     "metadata": {},
     "output_type": "execute_result"
    }
   ],
   "source": [
    "df.comments.apply(len).describe()"
   ]
  },
  {
   "cell_type": "code",
   "execution_count": 5,
   "metadata": {},
   "outputs": [
    {
     "name": "stdout",
     "output_type": "stream",
     "text": [
      "<class 'pandas.core.frame.DataFrame'>\n",
      "Int64Index: 70771 entries, 0 to 73535\n",
      "Data columns (total 7 columns):\n",
      " #   Column         Non-Null Count  Dtype \n",
      "---  ------         --------------  ----- \n",
      " 0   id             70771 non-null  object\n",
      " 1   title          70771 non-null  object\n",
      " 2   comments       70771 non-null  object\n",
      " 3   post_date_utc  70771 non-null  int64 \n",
      " 4   post_year      70771 non-null  int64 \n",
      " 5   post_month     70771 non-null  int64 \n",
      " 6   post_day       70771 non-null  int64 \n",
      "dtypes: int64(4), object(3)\n",
      "memory usage: 4.3+ MB\n"
     ]
    }
   ],
   "source": [
    "df.info()"
   ]
  },
  {
   "cell_type": "code",
   "execution_count": 6,
   "metadata": {},
   "outputs": [],
   "source": [
    "###################"
   ]
  },
  {
   "cell_type": "code",
   "execution_count": 7,
   "metadata": {},
   "outputs": [
    {
     "name": "stdout",
     "output_type": "stream",
     "text": [
      "<class 'pandas.core.frame.DataFrame'>\n",
      "RangeIndex: 9237277 entries, 0 to 9237276\n",
      "Data columns (total 9 columns):\n",
      " #   Column          Dtype  \n",
      "---  ------          -----  \n",
      " 0   tconst          object \n",
      " 1   titleType       object \n",
      " 2   primaryTitle    object \n",
      " 3   originalTitle   object \n",
      " 4   isAdult         float64\n",
      " 5   startYear       float64\n",
      " 6   endYear         float64\n",
      " 7   runtimeMinutes  object \n",
      " 8   genres          object \n",
      "dtypes: float64(3), object(6)\n",
      "memory usage: 634.3+ MB\n"
     ]
    }
   ],
   "source": [
    "titles_imdb_all = pd.read_csv(\n",
    "    \"./data/imdb/title.basics.tsv.gz\", \n",
    "    delimiter=\"\\t\", \n",
    "    compression=\"gzip\",\n",
    "    na_values=r\"\\N\",\n",
    "    low_memory=False\n",
    "    )\n",
    "titles_imdb_all.info()"
   ]
  },
  {
   "cell_type": "code",
   "execution_count": 8,
   "metadata": {},
   "outputs": [
    {
     "data": {
      "text/html": [
       "<div>\n",
       "<style scoped>\n",
       "    .dataframe tbody tr th:only-of-type {\n",
       "        vertical-align: middle;\n",
       "    }\n",
       "\n",
       "    .dataframe tbody tr th {\n",
       "        vertical-align: top;\n",
       "    }\n",
       "\n",
       "    .dataframe thead th {\n",
       "        text-align: right;\n",
       "    }\n",
       "</style>\n",
       "<table border=\"1\" class=\"dataframe\">\n",
       "  <thead>\n",
       "    <tr style=\"text-align: right;\">\n",
       "      <th></th>\n",
       "      <th>tconst</th>\n",
       "      <th>titleType</th>\n",
       "      <th>primaryTitle</th>\n",
       "      <th>originalTitle</th>\n",
       "      <th>isAdult</th>\n",
       "      <th>startYear</th>\n",
       "      <th>endYear</th>\n",
       "      <th>runtimeMinutes</th>\n",
       "      <th>genres</th>\n",
       "    </tr>\n",
       "  </thead>\n",
       "  <tbody>\n",
       "    <tr>\n",
       "      <th>0</th>\n",
       "      <td>tt0000001</td>\n",
       "      <td>short</td>\n",
       "      <td>Carmencita</td>\n",
       "      <td>Carmencita</td>\n",
       "      <td>0.0</td>\n",
       "      <td>1894.0</td>\n",
       "      <td>NaN</td>\n",
       "      <td>1</td>\n",
       "      <td>Documentary,Short</td>\n",
       "    </tr>\n",
       "    <tr>\n",
       "      <th>1</th>\n",
       "      <td>tt0000002</td>\n",
       "      <td>short</td>\n",
       "      <td>Le clown et ses chiens</td>\n",
       "      <td>Le clown et ses chiens</td>\n",
       "      <td>0.0</td>\n",
       "      <td>1892.0</td>\n",
       "      <td>NaN</td>\n",
       "      <td>5</td>\n",
       "      <td>Animation,Short</td>\n",
       "    </tr>\n",
       "    <tr>\n",
       "      <th>2</th>\n",
       "      <td>tt0000003</td>\n",
       "      <td>short</td>\n",
       "      <td>Pauvre Pierrot</td>\n",
       "      <td>Pauvre Pierrot</td>\n",
       "      <td>0.0</td>\n",
       "      <td>1892.0</td>\n",
       "      <td>NaN</td>\n",
       "      <td>4</td>\n",
       "      <td>Animation,Comedy,Romance</td>\n",
       "    </tr>\n",
       "    <tr>\n",
       "      <th>3</th>\n",
       "      <td>tt0000004</td>\n",
       "      <td>short</td>\n",
       "      <td>Un bon bock</td>\n",
       "      <td>Un bon bock</td>\n",
       "      <td>0.0</td>\n",
       "      <td>1892.0</td>\n",
       "      <td>NaN</td>\n",
       "      <td>12</td>\n",
       "      <td>Animation,Short</td>\n",
       "    </tr>\n",
       "    <tr>\n",
       "      <th>4</th>\n",
       "      <td>tt0000005</td>\n",
       "      <td>short</td>\n",
       "      <td>Blacksmith Scene</td>\n",
       "      <td>Blacksmith Scene</td>\n",
       "      <td>0.0</td>\n",
       "      <td>1893.0</td>\n",
       "      <td>NaN</td>\n",
       "      <td>1</td>\n",
       "      <td>Comedy,Short</td>\n",
       "    </tr>\n",
       "    <tr>\n",
       "      <th>...</th>\n",
       "      <td>...</td>\n",
       "      <td>...</td>\n",
       "      <td>...</td>\n",
       "      <td>...</td>\n",
       "      <td>...</td>\n",
       "      <td>...</td>\n",
       "      <td>...</td>\n",
       "      <td>...</td>\n",
       "      <td>...</td>\n",
       "    </tr>\n",
       "    <tr>\n",
       "      <th>9237272</th>\n",
       "      <td>tt9916848</td>\n",
       "      <td>tvEpisode</td>\n",
       "      <td>Episode #3.17</td>\n",
       "      <td>Episode #3.17</td>\n",
       "      <td>0.0</td>\n",
       "      <td>2010.0</td>\n",
       "      <td>NaN</td>\n",
       "      <td>NaN</td>\n",
       "      <td>Action,Drama,Family</td>\n",
       "    </tr>\n",
       "    <tr>\n",
       "      <th>9237273</th>\n",
       "      <td>tt9916850</td>\n",
       "      <td>tvEpisode</td>\n",
       "      <td>Episode #3.19</td>\n",
       "      <td>Episode #3.19</td>\n",
       "      <td>0.0</td>\n",
       "      <td>2010.0</td>\n",
       "      <td>NaN</td>\n",
       "      <td>NaN</td>\n",
       "      <td>Action,Drama,Family</td>\n",
       "    </tr>\n",
       "    <tr>\n",
       "      <th>9237274</th>\n",
       "      <td>tt9916852</td>\n",
       "      <td>tvEpisode</td>\n",
       "      <td>Episode #3.20</td>\n",
       "      <td>Episode #3.20</td>\n",
       "      <td>0.0</td>\n",
       "      <td>2010.0</td>\n",
       "      <td>NaN</td>\n",
       "      <td>NaN</td>\n",
       "      <td>Action,Drama,Family</td>\n",
       "    </tr>\n",
       "    <tr>\n",
       "      <th>9237275</th>\n",
       "      <td>tt9916856</td>\n",
       "      <td>short</td>\n",
       "      <td>The Wind</td>\n",
       "      <td>The Wind</td>\n",
       "      <td>0.0</td>\n",
       "      <td>2015.0</td>\n",
       "      <td>NaN</td>\n",
       "      <td>27</td>\n",
       "      <td>Short</td>\n",
       "    </tr>\n",
       "    <tr>\n",
       "      <th>9237276</th>\n",
       "      <td>tt9916880</td>\n",
       "      <td>tvEpisode</td>\n",
       "      <td>Horrid Henry Knows It All</td>\n",
       "      <td>Horrid Henry Knows It All</td>\n",
       "      <td>0.0</td>\n",
       "      <td>2014.0</td>\n",
       "      <td>NaN</td>\n",
       "      <td>10</td>\n",
       "      <td>Adventure,Animation,Comedy</td>\n",
       "    </tr>\n",
       "  </tbody>\n",
       "</table>\n",
       "<p>9237277 rows × 9 columns</p>\n",
       "</div>"
      ],
      "text/plain": [
       "            tconst  titleType               primaryTitle  \\\n",
       "0        tt0000001      short                 Carmencita   \n",
       "1        tt0000002      short     Le clown et ses chiens   \n",
       "2        tt0000003      short             Pauvre Pierrot   \n",
       "3        tt0000004      short                Un bon bock   \n",
       "4        tt0000005      short           Blacksmith Scene   \n",
       "...            ...        ...                        ...   \n",
       "9237272  tt9916848  tvEpisode              Episode #3.17   \n",
       "9237273  tt9916850  tvEpisode              Episode #3.19   \n",
       "9237274  tt9916852  tvEpisode              Episode #3.20   \n",
       "9237275  tt9916856      short                   The Wind   \n",
       "9237276  tt9916880  tvEpisode  Horrid Henry Knows It All   \n",
       "\n",
       "                     originalTitle  isAdult  startYear  endYear  \\\n",
       "0                       Carmencita      0.0     1894.0      NaN   \n",
       "1           Le clown et ses chiens      0.0     1892.0      NaN   \n",
       "2                   Pauvre Pierrot      0.0     1892.0      NaN   \n",
       "3                      Un bon bock      0.0     1892.0      NaN   \n",
       "4                 Blacksmith Scene      0.0     1893.0      NaN   \n",
       "...                            ...      ...        ...      ...   \n",
       "9237272              Episode #3.17      0.0     2010.0      NaN   \n",
       "9237273              Episode #3.19      0.0     2010.0      NaN   \n",
       "9237274              Episode #3.20      0.0     2010.0      NaN   \n",
       "9237275                   The Wind      0.0     2015.0      NaN   \n",
       "9237276  Horrid Henry Knows It All      0.0     2014.0      NaN   \n",
       "\n",
       "        runtimeMinutes                      genres  \n",
       "0                    1           Documentary,Short  \n",
       "1                    5             Animation,Short  \n",
       "2                    4    Animation,Comedy,Romance  \n",
       "3                   12             Animation,Short  \n",
       "4                    1                Comedy,Short  \n",
       "...                ...                         ...  \n",
       "9237272            NaN         Action,Drama,Family  \n",
       "9237273            NaN         Action,Drama,Family  \n",
       "9237274            NaN         Action,Drama,Family  \n",
       "9237275             27                       Short  \n",
       "9237276             10  Adventure,Animation,Comedy  \n",
       "\n",
       "[9237277 rows x 9 columns]"
      ]
     },
     "execution_count": 8,
     "metadata": {},
     "output_type": "execute_result"
    }
   ],
   "source": [
    "titles_imdb_all"
   ]
  },
  {
   "cell_type": "code",
   "execution_count": 9,
   "metadata": {},
   "outputs": [
    {
     "data": {
      "text/plain": [
       "tvEpisode       6964547\n",
       "short            890210\n",
       "movie            621752\n",
       "video            265317\n",
       "tvSeries         231314\n",
       "tvMovie          137588\n",
       "tvMiniSeries      45198\n",
       "tvSpecial         38401\n",
       "videoGame         32274\n",
       "tvShort           10674\n",
       "tvPilot               2\n",
       "Name: titleType, dtype: int64"
      ]
     },
     "execution_count": 9,
     "metadata": {},
     "output_type": "execute_result"
    }
   ],
   "source": [
    "titles_imdb_all['titleType'].value_counts()"
   ]
  },
  {
   "cell_type": "code",
   "execution_count": 10,
   "metadata": {},
   "outputs": [
    {
     "name": "stdout",
     "output_type": "stream",
     "text": [
      "<class 'pandas.core.frame.DataFrame'>\n",
      "Int64Index: 140562 entries, 11636 to 9237217\n",
      "Data columns (total 9 columns):\n",
      " #   Column          Non-Null Count   Dtype  \n",
      "---  ------          --------------   -----  \n",
      " 0   tconst          140562 non-null  object \n",
      " 1   titleType       140562 non-null  object \n",
      " 2   primaryTitle    140562 non-null  object \n",
      " 3   originalTitle   140562 non-null  object \n",
      " 4   isAdult         140562 non-null  float64\n",
      " 5   startYear       140562 non-null  float64\n",
      " 6   endYear         0 non-null       float64\n",
      " 7   runtimeMinutes  103121 non-null  object \n",
      " 8   genres          134481 non-null  object \n",
      "dtypes: float64(3), object(6)\n",
      "memory usage: 10.7+ MB\n"
     ]
    }
   ],
   "source": [
    "# Only include movie types that I think could be discussed in my dataset from r/movies\n",
    "\n",
    "titles_imdb = titles_imdb_all[\n",
    "    (titles_imdb_all['titleType'] == 'movie') &\n",
    "    (titles_imdb_all['isAdult'] == 0) &\n",
    "    (titles_imdb_all['startYear'] >= 2015)\n",
    "    ]\n",
    "titles_imdb.info()"
   ]
  },
  {
   "cell_type": "code",
   "execution_count": 11,
   "metadata": {},
   "outputs": [],
   "source": [
    "titles_imdb = titles_imdb.drop(columns='endYear')"
   ]
  },
  {
   "cell_type": "code",
   "execution_count": null,
   "metadata": {},
   "outputs": [],
   "source": [
    "# with open('./.secret/ZSDSFI_client_id.txt') as f:\n",
    "#     client_id = f.read()\n",
    "\n",
    "# with open('./.secret/ZSDSFI_client_secret.txt') as f:\n",
    "#     client_secret = f.read()"
   ]
  },
  {
   "cell_type": "code",
   "execution_count": null,
   "metadata": {},
   "outputs": [],
   "source": [
    "# reddit = praw.Reddit(\n",
    "#     client_id=client_id,\n",
    "#     client_secret=client_secret,\n",
    "#     user_agent=\"Movie Scraper by ZSDSFI\"\n",
    "# )"
   ]
  },
  {
   "cell_type": "code",
   "execution_count": null,
   "metadata": {},
   "outputs": [],
   "source": [
    "# discussions = pd.read_csv('./data/movies_cleaned.csv')"
   ]
  },
  {
   "cell_type": "code",
   "execution_count": null,
   "metadata": {},
   "outputs": [],
   "source": [
    "# created = discussions['id'].apply(lambda x: reddit.submission(x).created_utc)"
   ]
  },
  {
   "cell_type": "code",
   "execution_count": null,
   "metadata": {},
   "outputs": [],
   "source": [
    "# ratings_imdb = pd.read_csv(\"./data/imdb/title.ratings.tsv.gz\", delimiter=\"\\t\", compression=\"gzip\")"
   ]
  }
 ],
 "metadata": {
  "kernelspec": {
   "display_name": "Python 3.8.5 ('capstone-env')",
   "language": "python",
   "name": "python3"
  },
  "language_info": {
   "codemirror_mode": {
    "name": "ipython",
    "version": 3
   },
   "file_extension": ".py",
   "mimetype": "text/x-python",
   "name": "python",
   "nbconvert_exporter": "python",
   "pygments_lexer": "ipython3",
   "version": "3.8.5"
  },
  "orig_nbformat": 4,
  "vscode": {
   "interpreter": {
    "hash": "741bbb06d8fece82f103e7a4762f2cad41a4667d502102b48dc88a29a56aa95e"
   }
  }
 },
 "nbformat": 4,
 "nbformat_minor": 2
}
