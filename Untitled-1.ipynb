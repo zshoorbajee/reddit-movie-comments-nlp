{
 "cells": [
  {
   "cell_type": "code",
   "execution_count": 1,
   "metadata": {},
   "outputs": [],
   "source": [
    "import numpy as np\n",
    "import pandas as pd\n",
    "import warnings\n",
    "\n",
    "from nltk import FreqDist\n",
    "from nltk.tokenize import RegexpTokenizer\n",
    "from nltk.corpus import stopwords\n",
    "import spacy\n",
    "from spacy import displacy\n",
    "nlp = spacy.load('en_core_web_sm')\n",
    "\n",
    "from transformers import pipelines\n",
    "\n",
    "import re\n",
    "from collections import OrderedDict, Counter\n",
    "import itertools\n",
    "import string\n",
    "\n",
    "import seaborn as sns\n",
    "import matplotlib.pyplot as plt\n",
    "%matplotlib inline\n",
    "\n",
    "import praw\n",
    "\n",
    "import json\n",
    "\n",
    "pd.options.display.max_colwidth = 100\n",
    "pd.options.display.max_rows = 100\n",
    "seed = 55\n",
    "np.random.seed(seed)"
   ]
  },
  {
   "cell_type": "code",
   "execution_count": 2,
   "metadata": {},
   "outputs": [],
   "source": [
    "df = pd.read_csv(\"data/data.csv\", index_col=0)"
   ]
  },
  {
   "cell_type": "code",
   "execution_count": 3,
   "metadata": {},
   "outputs": [
    {
     "data": {
      "image/png": "[encoded data removed]",
      "text/plain": [
       "<Figure size 300x300 with 1 Axes>"
      ]
     },
     "metadata": {},
     "output_type": "display_data"
    }
   ],
   "source": [
    "df.comments.apply(len).hist(bins=50, figsize=(3, 3));"
   ]
  },
  {
   "cell_type": "code",
   "execution_count": 4,
   "metadata": {},
   "outputs": [
    {
     "data": {
      "text/plain": [
       "count    70747.000000\n",
       "mean       392.108994\n",
       "std        602.608498\n",
       "min          1.000000\n",
       "25%         97.000000\n",
       "50%        201.000000\n",
       "75%        439.500000\n",
       "max       9979.000000\n",
       "Name: comments, dtype: float64"
      ]
     },
     "execution_count": 4,
     "metadata": {},
     "output_type": "execute_result"
    }
   ],
   "source": [
    "df.comments.apply(len).describe()"
   ]
  },
  {
   "cell_type": "code",
   "execution_count": 5,
   "metadata": {},
   "outputs": [
    {
     "name": "stdout",
     "output_type": "stream",
     "text": [
      "<class 'pandas.core.frame.DataFrame'>\n",
      "Int64Index: 70747 entries, 0 to 73513\n",
      "Data columns (total 3 columns):\n",
      " #   Column    Non-Null Count  Dtype \n",
      "---  ------    --------------  ----- \n",
      " 0   id        70747 non-null  object\n",
      " 1   title     70747 non-null  object\n",
      " 2   comments  70747 non-null  object\n",
      "dtypes: object(3)\n",
      "memory usage: 2.2+ MB\n"
     ]
    }
   ],
   "source": [
    "df.info()"
   ]
  },
  {
   "cell_type": "code",
   "execution_count": 6,
   "metadata": {},
   "outputs": [],
   "source": [
    "under_50_comments = df.title.value_counts()[df.title.value_counts() < 50].keys().tolist()"
   ]
  },
  {
   "cell_type": "code",
   "execution_count": 7,
   "metadata": {},
   "outputs": [
    {
     "data": {
      "text/html": [
       "<div>\n",
       "<style scoped>\n",
       "    .dataframe tbody tr th:only-of-type {\n",
       "        vertical-align: middle;\n",
       "    }\n",
       "\n",
       "    .dataframe tbody tr th {\n",
       "        vertical-align: top;\n",
       "    }\n",
       "\n",
       "    .dataframe thead th {\n",
       "        text-align: right;\n",
       "    }\n",
       "</style>\n",
       "<table border=\"1\" class=\"dataframe\">\n",
       "  <thead>\n",
       "    <tr style=\"text-align: right;\">\n",
       "      <th></th>\n",
       "      <th>id</th>\n",
       "      <th>title</th>\n",
       "      <th>comments</th>\n",
       "    </tr>\n",
       "  </thead>\n",
       "  <tbody>\n",
       "    <tr>\n",
       "      <th>0</th>\n",
       "      <td>vzcwal</td>\n",
       "      <td>the princess</td>\n",
       "      <td>Joey King needs a new agent. She’s proven she has talent but she has so many terrible films on h...</td>\n",
       "    </tr>\n",
       "    <tr>\n",
       "      <th>1</th>\n",
       "      <td>vzcwal</td>\n",
       "      <td>the princess</td>\n",
       "      <td>Silly, but entertaining and non stop action</td>\n",
       "    </tr>\n",
       "    <tr>\n",
       "      <th>2</th>\n",
       "      <td>vzcwal</td>\n",
       "      <td>the princess</td>\n",
       "      <td>The yassification of The Raid\\n\\nActually, this was fun enough and mad respect to Joey King for ...</td>\n",
       "    </tr>\n",
       "    <tr>\n",
       "      <th>3</th>\n",
       "      <td>vzcwal</td>\n",
       "      <td>the princess</td>\n",
       "      <td>Honestly, this was pretty fun.  The plot is nothing special yes.\\n\\nBut Joey King was actually e...</td>\n",
       "    </tr>\n",
       "    <tr>\n",
       "      <th>4</th>\n",
       "      <td>vzcwal</td>\n",
       "      <td>the princess</td>\n",
       "      <td>Man, I loved this movie. Yeah, it was campy, but whatever. The premise worked for me, I liked th...</td>\n",
       "    </tr>\n",
       "    <tr>\n",
       "      <th>...</th>\n",
       "      <td>...</td>\n",
       "      <td>...</td>\n",
       "      <td>...</td>\n",
       "    </tr>\n",
       "    <tr>\n",
       "      <th>73344</th>\n",
       "      <td>48vhmk</td>\n",
       "      <td>whiskey tango foxtrot</td>\n",
       "      <td>Im reading alot of people saying they liked it but only giving it like 6/10 and not even explain...</td>\n",
       "    </tr>\n",
       "    <tr>\n",
       "      <th>73345</th>\n",
       "      <td>48vhmk</td>\n",
       "      <td>whiskey tango foxtrot</td>\n",
       "      <td>I'll give it a 6.</td>\n",
       "    </tr>\n",
       "    <tr>\n",
       "      <th>73347</th>\n",
       "      <td>48vhmk</td>\n",
       "      <td>whiskey tango foxtrot</td>\n",
       "      <td>Worth seeing in theatre or wait until redbox?</td>\n",
       "    </tr>\n",
       "    <tr>\n",
       "      <th>73348</th>\n",
       "      <td>48vhmk</td>\n",
       "      <td>whiskey tango foxtrot</td>\n",
       "      <td>Welcome to Scotland.</td>\n",
       "    </tr>\n",
       "    <tr>\n",
       "      <th>73349</th>\n",
       "      <td>48vhmk</td>\n",
       "      <td>whiskey tango foxtrot</td>\n",
       "      <td>When is the next Thor film</td>\n",
       "    </tr>\n",
       "  </tbody>\n",
       "</table>\n",
       "<p>5970 rows × 3 columns</p>\n",
       "</div>"
      ],
      "text/plain": [
       "           id                  title  \\\n",
       "0      vzcwal           the princess   \n",
       "1      vzcwal           the princess   \n",
       "2      vzcwal           the princess   \n",
       "3      vzcwal           the princess   \n",
       "4      vzcwal           the princess   \n",
       "...       ...                    ...   \n",
       "73344  48vhmk  whiskey tango foxtrot   \n",
       "73345  48vhmk  whiskey tango foxtrot   \n",
       "73347  48vhmk  whiskey tango foxtrot   \n",
       "73348  48vhmk  whiskey tango foxtrot   \n",
       "73349  48vhmk  whiskey tango foxtrot   \n",
       "\n",
       "                                                                                                  comments  \n",
       "0      Joey King needs a new agent. She’s proven she has talent but she has so many terrible films on h...  \n",
       "1                                                              Silly, but entertaining and non stop action  \n",
       "2      The yassification of The Raid\\n\\nActually, this was fun enough and mad respect to Joey King for ...  \n",
       "3      Honestly, this was pretty fun.  The plot is nothing special yes.\\n\\nBut Joey King was actually e...  \n",
       "4      Man, I loved this movie. Yeah, it was campy, but whatever. The premise worked for me, I liked th...  \n",
       "...                                                                                                    ...  \n",
       "73344  Im reading alot of people saying they liked it but only giving it like 6/10 and not even explain...  \n",
       "73345                                                                                    I'll give it a 6.  \n",
       "73347                                                        Worth seeing in theatre or wait until redbox?  \n",
       "73348                                                                                 Welcome to Scotland.  \n",
       "73349                                                                           When is the next Thor film  \n",
       "\n",
       "[5970 rows x 3 columns]"
      ]
     },
     "execution_count": 7,
     "metadata": {},
     "output_type": "execute_result"
    }
   ],
   "source": [
    "df[df.title.apply(lambda x: x in under_50_comments)]"
   ]
  }
 ],
 "metadata": {
  "kernelspec": {
   "display_name": "Python 3.8.5 ('capstone-env')",
   "language": "python",
   "name": "python3"
  },
  "language_info": {
   "codemirror_mode": {
    "name": "ipython",
    "version": 3
   },
   "file_extension": ".py",
   "mimetype": "text/x-python",
   "name": "python",
   "nbconvert_exporter": "python",
   "pygments_lexer": "ipython3",
   "version": "3.8.5"
  },
  "orig_nbformat": 4,
  "vscode": {
   "interpreter": {
    "hash": "741bbb06d8fece82f103e7a4762f2cad41a4667d502102b48dc88a29a56aa95e"
   }
  }
 },
 "nbformat": 4,
 "nbformat_minor": 2
}
